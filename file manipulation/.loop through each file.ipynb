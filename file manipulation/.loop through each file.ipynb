def WalkThroughFiles(input_image_path,output_image_path):
    """
  
    """
    os.chdir(input_image_path)
    for root, dirs, files in os.walk(".", topdown = False):#this file provide name of files and directories
        for name in dirs:
            os.chdir(input_image_path + "/" + name)
            os.mkdir(output_image_path + name)
            a = (output_image_path + name)
            for root, dirs, files in os.walk(".", topdown = False):
                i=0
                for filename in files:
                    input_image  =  (os.getcwd() + "/"+ filename)
                    image        =  imread(input_image)
                    levelset     = (LevelSetActiveContour(input_image)[0]).astype(float)
                    #levelset     = LevelSetActiveContour(input_image)
                    file_1       = a + "\\" + filename
                    file_2       = re.sub(".bmp","_levelset.bmp",file_1)
                     
#                    io.imsave(file_1,image)    
                    io.imsave(file_2, levelset)   
    return 0 

